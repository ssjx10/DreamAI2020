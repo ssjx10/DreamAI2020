{
 "cells": [
  {
   "cell_type": "code",
   "execution_count": 2,
   "metadata": {},
   "outputs": [],
   "source": [
    "import argparse\n",
    "import random\n",
    "import numpy as np\n",
    "import os\n",
    "import torch\n",
    "from torch.optim.lr_scheduler import ReduceLROnPlateau\n",
    "from torch.utils.tensorboard import SummaryWriter\n",
    "import torch.nn as nn\n",
    "from torchvision import models\n",
    "import torch.optim as optim\n",
    "from torch.optim.lr_scheduler import ExponentialLR, ReduceLROnPlateau\n",
    "from torch.utils.data import Dataset, DataLoader\n",
    "from torch.utils.data import Subset\n",
    "import glob\n",
    "import librosa\n",
    "import torchaudio\n",
    "import torchaudio.transforms as AT\n",
    "import matplotlib.pyplot as plt\n",
    "import json\n",
    "\n",
    "from covidxdataset import COVIDxDataset\n",
    "from audiodataset import CoswaraDataset\n",
    "import util as util\n",
    "from util import Mel2Samp\n",
    "from train import train, validation\n",
    "from model import transfer_resNet, ResNet54, ResNet22, ResNet38"
   ]
  },
  {
   "cell_type": "code",
   "execution_count": 3,
   "metadata": {},
   "outputs": [],
   "source": [
    "data_path = '../data/Coswara-Data/20*/*/'\n",
    "pid_list = glob.glob(data_path)\n",
    "\n",
    "paths = []\n",
    "labels = []\n",
    "for pid in pid_list:\n",
    "    json_file = pid + 'metadata.json'\n",
    "    with open(json_file) as json_file:\n",
    "        json_data = json.load(json_file)\n",
    "        status = json_data[\"covid_status\"]\n",
    "    if 'positive' in status:\n",
    "        status = 'positive'\n",
    "    if status != 'healthy' and status != 'positive':\n",
    "        continue\n",
    "    file_list = glob.glob(pid + '*.wav')\n",
    "    for f in file_list:\n",
    "        if 'cough' not in f:\n",
    "            continue\n",
    "        paths.append(f)\n",
    "        labels.append(status)"
   ]
  },
  {
   "cell_type": "code",
   "execution_count": 3,
   "metadata": {},
   "outputs": [],
   "source": [
    "mel_spectrogram = nn.Sequential(\n",
    "            AT.MelSpectrogram(sample_rate=16000, \n",
    "                              n_fft=512, \n",
    "                              win_length=400,\n",
    "                              hop_length=160,\n",
    "                              n_mels=80,\n",
    "#                               f_max=8000\n",
    "                             ),\n",
    "            AT.AmplitudeToDB()\n",
    ")\n"
   ]
  },
  {
   "cell_type": "code",
   "execution_count": 4,
   "metadata": {},
   "outputs": [],
   "source": [
    "mel_spectrogram = nn.Sequential(\n",
    "            AT.MelSpectrogram(sample_rate=16000, \n",
    "                              n_fft=1024, \n",
    "                              win_length=1024,\n",
    "                              hop_length=320,\n",
    "                              n_mels=64,\n",
    "                              f_max=8000\n",
    "                             ),\n",
    "            AT.AmplitudeToDB()\n",
    ")\n"
   ]
  },
  {
   "cell_type": "code",
   "execution_count": 4,
   "metadata": {},
   "outputs": [],
   "source": [
    "audio, sr = librosa.load(paths[0], sr=16000)\n",
    "# audio = torch.from_numpy(audio)\n",
    "# mel = mel_spectrogram(audio)"
   ]
  },
  {
   "cell_type": "code",
   "execution_count": 7,
   "metadata": {},
   "outputs": [
    {
     "data": {
      "text/plain": [
       "[<matplotlib.lines.Line2D at 0x7f95be78ed68>]"
      ]
     },
     "execution_count": 7,
     "metadata": {},
     "output_type": "execute_result"
    },
    {
     "data": {
      "image/png": "[encoded data removed]",
      "text/plain": [
       "<Figure size 432x288 with 1 Axes>"
      ]
     },
     "metadata": {
      "needs_background": "light"
     },
     "output_type": "display_data"
    }
   ],
   "source": [
    "plt.plot(audio)"
   ]
  },
  {
   "cell_type": "code",
   "execution_count": 9,
   "metadata": {},
   "outputs": [
    {
     "data": {
      "text/plain": [
       "27821"
      ]
     },
     "execution_count": 9,
     "metadata": {},
     "output_type": "execute_result"
    }
   ],
   "source": [
    "np.argmax(audio)"
   ]
  },
  {
   "cell_type": "code",
   "execution_count": 15,
   "metadata": {},
   "outputs": [],
   "source": [
    "segment_length = 16000*4\n",
    "audio_start = np.argmax(audio) - segment_length//2\n",
    "if audio_start < 0:\n",
    "    audio_start = 0\n",
    "audio_s = audio[audio_start:audio_start + segment_length]"
   ]
  },
  {
   "cell_type": "code",
   "execution_count": 17,
   "metadata": {},
   "outputs": [
    {
     "data": {
      "text/plain": [
       "[<matplotlib.lines.Line2D at 0x7f95be7bfcf8>]"
      ]
     },
     "execution_count": 17,
     "metadata": {},
     "output_type": "execute_result"
    },
    {
     "data": {
      "image/png": "[encoded data removed]",
      "text/plain": [
       "<Figure size 432x288 with 1 Axes>"
      ]
     },
     "metadata": {
      "needs_background": "light"
     },
     "output_type": "display_data"
    }
   ],
   "source": [
    "plt.plot(audio_s)"
   ]
  },
  {
   "cell_type": "code",
   "execution_count": 16,
   "metadata": {},
   "outputs": [
    {
     "data": {
      "text/plain": [
       "(64000,)"
      ]
     },
     "execution_count": 16,
     "metadata": {},
     "output_type": "execute_result"
    }
   ],
   "source": [
    "audio_s.shape"
   ]
  },
  {
   "cell_type": "code",
   "execution_count": 5,
   "metadata": {},
   "outputs": [
    {
     "data": {
      "text/plain": [
       "(86016,)"
      ]
     },
     "execution_count": 5,
     "metadata": {},
     "output_type": "execute_result"
    }
   ],
   "source": [
    "audio.shape"
   ]
  },
  {
   "cell_type": "code",
   "execution_count": 6,
   "metadata": {},
   "outputs": [],
   "source": [
    "segment_length = 16000*6\n",
    "# Take segment\n",
    "if audio.shape[0] >= segment_length:\n",
    "    max_audio_start = audio.shape[0] - segment_length\n",
    "    audio_start = random.randint(0, max_audio_start)\n",
    "    audio_s = audio[audio_start:audio_start + segment_length]\n",
    "else:\n",
    "    audio = torch.nn.functional.pad(audio, (0, segment_length - audio.shape[0]), 'constant').data"
   ]
  },
  {
   "cell_type": "code",
   "execution_count": 7,
   "metadata": {},
   "outputs": [
    {
     "name": "stderr",
     "output_type": "stream",
     "text": [
      "/home/u00u654jzhiF9LTXS9357/.local/lib/python3.6/site-packages/torch/functional.py:516: UserWarning: stft will require the return_complex parameter be explicitly  specified in a future PyTorch release. Use return_complex=False  to preserve the current behavior or return_complex=True to return  a complex output. (Triggered internally at  /pytorch/aten/src/ATen/native/SpectralOps.cpp:653.)\n",
      "  normalized, onesided, return_complex)\n",
      "/home/u00u654jzhiF9LTXS9357/.local/lib/python3.6/site-packages/torch/functional.py:516: UserWarning: The function torch.rfft is deprecated and will be removed in a future PyTorch release. Use the new torch.fft module functions, instead, by importing torch.fft and calling torch.fft.fft or torch.fft.rfft. (Triggered internally at  /pytorch/aten/src/ATen/native/SpectralOps.cpp:590.)\n",
      "  normalized, onesided, return_complex)\n"
     ]
    }
   ],
   "source": [
    "mel = mel_spectrogram(torch.from_numpy(audio))"
   ]
  },
  {
   "cell_type": "code",
   "execution_count": 8,
   "metadata": {},
   "outputs": [],
   "source": [
    "mel2 = mel_spectrogram(torch.from_numpy(audio_s))"
   ]
  },
  {
   "cell_type": "code",
   "execution_count": 9,
   "metadata": {
    "scrolled": true
   },
   "outputs": [
    {
     "data": {
      "text/plain": [
       "torch.Size([64, 301])"
      ]
     },
     "execution_count": 9,
     "metadata": {},
     "output_type": "execute_result"
    }
   ],
   "source": [
    "mel2.shape"
   ]
  },
  {
   "cell_type": "code",
   "execution_count": 10,
   "metadata": {},
   "outputs": [
    {
     "data": {
      "text/plain": [
       "(torch.Size([64, 414]), torch.Size([64, 301]))"
      ]
     },
     "execution_count": 10,
     "metadata": {},
     "output_type": "execute_result"
    }
   ],
   "source": [
    "mel.shape, mel2.shape"
   ]
  },
  {
   "cell_type": "code",
   "execution_count": 11,
   "metadata": {},
   "outputs": [],
   "source": [
    "audio2, sr = librosa.load(paths[10], sr=16000)"
   ]
  },
  {
   "cell_type": "code",
   "execution_count": 12,
   "metadata": {},
   "outputs": [],
   "source": [
    "mel2 = mel2.unsqueeze(0)"
   ]
  },
  {
   "cell_type": "code",
   "execution_count": 13,
   "metadata": {},
   "outputs": [],
   "source": [
    "melkwargs={\"n_fft\": 400, \"hop_length\": 160, \"win_length\": 400, \"n_mels\": 80, \"f_max\": 8000}\n",
    "mfcc = AT.MFCC(sample_rate=sr, n_mfcc=40, melkwargs=melkwargs)(torch.from_numpy(audio))"
   ]
  },
  {
   "cell_type": "code",
   "execution_count": 14,
   "metadata": {},
   "outputs": [
    {
     "data": {
      "text/plain": [
       "torch.Size([1, 1, 828, 40])"
      ]
     },
     "execution_count": 14,
     "metadata": {},
     "output_type": "execute_result"
    }
   ],
   "source": [
    "mfcc = mfcc.unsqueeze(0).unsqueeze(0)\n",
    "mfcc.transpose(2, 3).shape"
   ]
  },
  {
   "cell_type": "code",
   "execution_count": 15,
   "metadata": {},
   "outputs": [
    {
     "data": {
      "text/plain": [
       "<matplotlib.image.AxesImage at 0x7f2253671048>"
      ]
     },
     "execution_count": 15,
     "metadata": {},
     "output_type": "execute_result"
    },
    {
     "data": {
      "image/png": "[encoded data removed]",
      "text/plain": [
       "<Figure size 432x288 with 1 Axes>"
      ]
     },
     "metadata": {
      "needs_background": "light"
     },
     "output_type": "display_data"
    }
   ],
   "source": [
    "plt.imshow(mel)"
   ]
  },
  {
   "cell_type": "code",
   "execution_count": 16,
   "metadata": {},
   "outputs": [],
   "source": [
    "mfcc2 = librosa.feature.mfcc(audio, sr=sr, n_mfcc=20,n_fft=512, \n",
    "                              hop_length=160,\n",
    "                              n_mels=80)"
   ]
  },
  {
   "cell_type": "code",
   "execution_count": 17,
   "metadata": {
    "scrolled": true
   },
   "outputs": [
    {
     "data": {
      "text/plain": [
       "(20, 828)"
      ]
     },
     "execution_count": 17,
     "metadata": {},
     "output_type": "execute_result"
    }
   ],
   "source": [
    "mfcc2.shape"
   ]
  },
  {
   "cell_type": "code",
   "execution_count": 18,
   "metadata": {},
   "outputs": [],
   "source": [
    "def seed_everything(seed_value):\n",
    "    random.seed(seed_value)\n",
    "    np.random.seed(seed_value)\n",
    "    torch.manual_seed(seed_value)\n",
    "    os.environ['PYTHONHASHSEED'] = str(seed_value)\n",
    "    \n",
    "    if torch.cuda.is_available(): \n",
    "        torch.cuda.manual_seed(seed_value)\n",
    "        torch.cuda.manual_seed_all(seed_value)\n",
    "        torch.backends.cudnn.deterministic = True\n",
    "        torch.backends.cudnn.benchmark = True"
   ]
  },
  {
   "cell_type": "code",
   "execution_count": 19,
   "metadata": {},
   "outputs": [
    {
     "name": "stdout",
     "output_type": "stream",
     "text": [
      "train examples =  259 [130 129]\n",
      "valid examples =  26 [13 13]\n",
      "test examples =  65 [32 33]\n",
      "Epoch: 1\tSample:    1/  259\tLoss:2.0720\tAccuracy:0.53\n",
      "Training\n",
      " SUMMARY EPOCH: 1\tSample:  259/  259\tLoss:2.8469\tAccuracy:0.54\n",
      "\n",
      "Confusion Matrix\n",
      "[[69. 61.]\n",
      " [58. 71.]]\n",
      "\n",
      "Validation\n",
      " SUMMARY EPOCH: 1\tSample:   65/   65\tLoss:0.8057\tAccuracy:0.51\n",
      "\n",
      "Confusion Matrix\n",
      "[[ 0. 32.]\n",
      " [ 0. 33.]]\n",
      "Epoch: 2\tSample:    1/  259\tLoss:3.4921\tAccuracy:0.58\n",
      "Training\n",
      " SUMMARY EPOCH: 2\tSample:  259/  259\tLoss:2.4344\tAccuracy:0.56\n",
      "\n",
      "Confusion Matrix\n",
      "[[68. 62.]\n",
      " [53. 76.]]\n",
      "\n",
      "Validation\n",
      " SUMMARY EPOCH: 2\tSample:   65/   65\tLoss:0.7103\tAccuracy:0.62\n",
      "\n",
      "Confusion Matrix\n",
      "[[15. 17.]\n",
      " [ 8. 25.]]\n",
      "Epoch: 3\tSample:    1/  259\tLoss:1.0362\tAccuracy:0.56\n",
      "Training\n",
      " SUMMARY EPOCH: 3\tSample:  259/  259\tLoss:1.1972\tAccuracy:0.59\n",
      "\n",
      "Confusion Matrix\n",
      "[[76. 54.]\n",
      " [52. 77.]]\n",
      "\n",
      "Validation\n",
      " SUMMARY EPOCH: 3\tSample:   65/   65\tLoss:0.7300\tAccuracy:0.54\n",
      "\n",
      "Confusion Matrix\n",
      "[[28.  4.]\n",
      " [26.  7.]]\n",
      "Epoch: 4\tSample:    1/  259\tLoss:0.6475\tAccuracy:0.66\n",
      "Training\n",
      " SUMMARY EPOCH: 4\tSample:  259/  259\tLoss:1.2711\tAccuracy:0.65\n",
      "\n",
      "Confusion Matrix\n",
      "[[75. 55.]\n",
      " [36. 93.]]\n",
      "\n",
      "Validation\n",
      " SUMMARY EPOCH: 4\tSample:   65/   65\tLoss:0.9334\tAccuracy:0.55\n",
      "\n",
      "Confusion Matrix\n",
      "[[11. 21.]\n",
      " [ 8. 25.]]\n",
      "Epoch: 5\tSample:    1/  259\tLoss:0.5726\tAccuracy:0.78\n",
      "Training\n",
      " SUMMARY EPOCH: 5\tSample:  259/  259\tLoss:0.8625\tAccuracy:0.68\n",
      "\n",
      "Confusion Matrix\n",
      "[[103.  27.]\n",
      " [ 56.  73.]]\n",
      "\n",
      "Validation\n",
      " SUMMARY EPOCH: 5\tSample:   65/   65\tLoss:0.5580\tAccuracy:0.58\n",
      "\n",
      "Confusion Matrix\n",
      "[[27.  5.]\n",
      " [22. 11.]]\n",
      "Epoch: 6\tSample:    1/  259\tLoss:1.4816\tAccuracy:0.55\n",
      "Training\n",
      " SUMMARY EPOCH: 6\tSample:  259/  259\tLoss:1.2520\tAccuracy:0.62\n",
      "\n",
      "Confusion Matrix\n",
      "[[78. 52.]\n",
      " [46. 83.]]\n",
      "\n",
      "Validation\n",
      " SUMMARY EPOCH: 6\tSample:   65/   65\tLoss:0.8290\tAccuracy:0.58\n",
      "\n",
      "Confusion Matrix\n",
      "[[29.  3.]\n",
      " [24.  9.]]\n",
      "Epoch: 7\tSample:    1/  259\tLoss:1.0904\tAccuracy:0.61\n",
      "Training\n",
      " SUMMARY EPOCH: 7\tSample:  259/  259\tLoss:1.1540\tAccuracy:0.61\n",
      "\n",
      "Confusion Matrix\n",
      "[[66. 64.]\n",
      " [36. 93.]]\n",
      "\n",
      "Validation\n",
      " SUMMARY EPOCH: 8\tSample:   65/   65\tLoss:0.8441\tAccuracy:0.51\n",
      "\n",
      "Confusion Matrix\n",
      "[[ 5. 27.]\n",
      " [ 5. 28.]]\n",
      "Epoch     8: reducing learning rate of group 0 to 5.0000e-05.\n",
      "Epoch: 9\tSample:    1/  259\tLoss:1.5573\tAccuracy:0.56\n",
      "Training\n",
      " SUMMARY EPOCH: 9\tSample:  259/  259\tLoss:0.9830\tAccuracy:0.66\n",
      "\n",
      "Confusion Matrix\n",
      "[[99. 31.]\n",
      " [57. 72.]]\n",
      "\n",
      "Validation\n",
      " SUMMARY EPOCH: 9\tSample:   65/   65\tLoss:0.6877\tAccuracy:0.68\n",
      "\n",
      "Confusion Matrix\n",
      "[[22. 10.]\n",
      " [11. 22.]]\n",
      "Epoch:10\tSample:    1/  259\tLoss:0.7445\tAccuracy:0.73\n",
      "Training\n",
      " SUMMARY EPOCH:10\tSample:  259/  259\tLoss:0.7396\tAccuracy:0.71\n",
      "\n",
      "Confusion Matrix\n",
      "[[112.  18.]\n",
      " [ 58.  71.]]\n",
      "\n",
      "Validation\n",
      " SUMMARY EPOCH:10\tSample:   65/   65\tLoss:1.7409\tAccuracy:0.63\n",
      "\n",
      "Confusion Matrix\n",
      "[[24.  8.]\n",
      " [16. 17.]]\n",
      "Epoch:11\tSample:    1/  259\tLoss:0.8071\tAccuracy:0.70\n",
      "Training\n",
      " SUMMARY EPOCH:11\tSample:  259/  259\tLoss:0.6268\tAccuracy:0.74\n",
      "\n",
      "Confusion Matrix\n",
      "[[102.  28.]\n",
      " [ 39.  90.]]\n",
      "\n",
      "Validation\n",
      " SUMMARY EPOCH:11\tSample:   65/   65\tLoss:0.9232\tAccuracy:0.66\n",
      "\n",
      "Confusion Matrix\n",
      "[[23.  9.]\n",
      " [13. 20.]]\n",
      "Epoch    11: reducing learning rate of group 0 to 2.5000e-05.\n",
      "Epoch:12\tSample:    1/  259\tLoss:0.4714\tAccuracy:0.73\n",
      "Training\n",
      " SUMMARY EPOCH:12\tSample:  259/  259\tLoss:0.6316\tAccuracy:0.74\n",
      "\n",
      "Confusion Matrix\n",
      "[[ 75.  55.]\n",
      " [ 13. 116.]]\n",
      "\n",
      "Validation\n",
      " SUMMARY EPOCH:12\tSample:   65/   65\tLoss:0.7608\tAccuracy:0.66\n",
      "\n",
      "Confusion Matrix\n",
      "[[19. 13.]\n",
      " [ 9. 24.]]\n",
      "Epoch:13\tSample:    1/  259\tLoss:0.4047\tAccuracy:0.80\n",
      "Training\n",
      " SUMMARY EPOCH:13\tSample:  259/  259\tLoss:0.4518\tAccuracy:0.80\n",
      "\n",
      "Confusion Matrix\n",
      "[[ 95.  35.]\n",
      " [ 18. 111.]]\n",
      "\n",
      "Validation\n",
      " SUMMARY EPOCH:13\tSample:   65/   65\tLoss:0.6078\tAccuracy:0.69\n",
      "\n",
      "Confusion Matrix\n",
      "[[21. 11.]\n",
      " [ 9. 24.]]\n",
      "Epoch:14\tSample:    1/  259\tLoss:0.4665\tAccuracy:0.78\n",
      "Training\n",
      " SUMMARY EPOCH:14\tSample:  259/  259\tLoss:0.7737\tAccuracy:0.78\n",
      "\n",
      "Confusion Matrix\n",
      "[[111.  19.]\n",
      " [ 38.  91.]]\n",
      "\n",
      "Validation\n",
      " SUMMARY EPOCH:14\tSample:   65/   65\tLoss:0.5501\tAccuracy:0.72\n",
      "\n",
      "Confusion Matrix\n",
      "[[21. 11.]\n",
      " [ 7. 26.]]\n",
      "Epoch:15\tSample:    1/  259\tLoss:0.5336\tAccuracy:0.80\n",
      "Training\n",
      " SUMMARY EPOCH:15\tSample:  259/  259\tLoss:0.6562\tAccuracy:0.77\n",
      "\n",
      "Confusion Matrix\n",
      "[[111.  19.]\n",
      " [ 41.  88.]]\n",
      "\n",
      "Validation\n",
      " SUMMARY EPOCH:15\tSample:   65/   65\tLoss:0.6416\tAccuracy:0.62\n",
      "\n",
      "Confusion Matrix\n",
      "[[12. 20.]\n",
      " [ 5. 28.]]\n",
      "Epoch:16\tSample:    1/  259\tLoss:0.4406\tAccuracy:0.78\n",
      "Training\n",
      " SUMMARY EPOCH:16\tSample:  259/  259\tLoss:0.3469\tAccuracy:0.81\n",
      "\n",
      "Confusion Matrix\n",
      "[[109.  21.]\n",
      " [ 27. 102.]]\n",
      "\n",
      "Validation\n",
      " SUMMARY EPOCH:16\tSample:   65/   65\tLoss:0.5320\tAccuracy:0.63\n",
      "\n",
      "Confusion Matrix\n",
      "[[19. 13.]\n",
      " [11. 22.]]\n",
      "Epoch:17\tSample:    1/  259\tLoss:0.4526\tAccuracy:0.81\n",
      "Training\n",
      " SUMMARY EPOCH:17\tSample:  259/  259\tLoss:0.5026\tAccuracy:0.77\n",
      "\n",
      "Confusion Matrix\n",
      "[[108.  22.]\n",
      " [ 37.  92.]]\n",
      "\n",
      "Validation\n",
      " SUMMARY EPOCH:17\tSample:   65/   65\tLoss:0.6029\tAccuracy:0.63\n",
      "\n",
      "Confusion Matrix\n",
      "[[25.  7.]\n",
      " [17. 16.]]\n",
      "Epoch:18\tSample:    1/  259\tLoss:0.4357\tAccuracy:0.80\n",
      "Training\n",
      " SUMMARY EPOCH:18\tSample:  259/  259\tLoss:0.5762\tAccuracy:0.79\n",
      "\n",
      "Confusion Matrix\n",
      "[[112.  18.]\n",
      " [ 37.  92.]]\n",
      "\n",
      "Validation\n",
      " SUMMARY EPOCH:18\tSample:   65/   65\tLoss:0.7180\tAccuracy:0.68\n",
      "\n",
      "Confusion Matrix\n",
      "[[28.  4.]\n",
      " [17. 16.]]\n",
      "Epoch:19\tSample:    1/  259\tLoss:0.3972\tAccuracy:0.80\n",
      "Training\n",
      " SUMMARY EPOCH:19\tSample:  259/  259\tLoss:0.6926\tAccuracy:0.78\n",
      "\n",
      "Confusion Matrix\n",
      "[[ 99.  31.]\n",
      " [ 25. 104.]]\n",
      "\n",
      "Validation\n",
      " SUMMARY EPOCH:19\tSample:   65/   65\tLoss:0.6479\tAccuracy:0.71\n",
      "\n",
      "Confusion Matrix\n",
      "[[25.  7.]\n",
      " [12. 21.]]\n",
      "Epoch    19: reducing learning rate of group 0 to 1.2500e-05.\n",
      "Epoch:20\tSample:    1/  259\tLoss:0.3898\tAccuracy:0.83\n",
      "Training\n",
      " SUMMARY EPOCH:20\tSample:  259/  259\tLoss:0.3804\tAccuracy:0.83\n",
      "\n",
      "Confusion Matrix\n",
      "[[104.  26.]\n",
      " [ 17. 112.]]\n",
      "\n",
      "Validation\n",
      " SUMMARY EPOCH:20\tSample:   65/   65\tLoss:0.5694\tAccuracy:0.60\n",
      "\n",
      "Confusion Matrix\n",
      "[[19. 13.]\n",
      " [13. 20.]]\n",
      "Epoch:21\tSample:    1/  259\tLoss:0.3333\tAccuracy:0.83\n",
      "Training\n",
      " SUMMARY EPOCH:21\tSample:  259/  259\tLoss:0.4441\tAccuracy:0.84\n",
      "\n",
      "Confusion Matrix\n",
      "[[111.  19.]\n",
      " [ 23. 106.]]\n",
      "\n",
      "Validation\n",
      " SUMMARY EPOCH:21\tSample:   65/   65\tLoss:0.6048\tAccuracy:0.69\n",
      "\n",
      "Confusion Matrix\n",
      "[[24.  8.]\n",
      " [12. 21.]]\n",
      "Epoch:22\tSample:    1/  259\tLoss:0.2361\tAccuracy:0.89\n",
      "Training\n",
      " SUMMARY EPOCH:22\tSample:  259/  259\tLoss:0.3002\tAccuracy:0.85\n",
      "\n",
      "Confusion Matrix\n",
      "[[110.  20.]\n",
      " [ 19. 110.]]\n",
      "\n",
      "Validation\n",
      " SUMMARY EPOCH:22\tSample:   65/   65\tLoss:0.5464\tAccuracy:0.68\n",
      "\n",
      "Confusion Matrix\n",
      "[[21. 11.]\n",
      " [10. 23.]]\n",
      "Epoch    22: reducing learning rate of group 0 to 6.2500e-06.\n",
      "Epoch:23\tSample:    1/  259\tLoss:0.3314\tAccuracy:0.89\n",
      "Training\n",
      " SUMMARY EPOCH:23\tSample:  259/  259\tLoss:0.3503\tAccuracy:0.86\n",
      "\n",
      "Confusion Matrix\n",
      "[[109.  21.]\n",
      " [ 16. 113.]]\n",
      "\n",
      "Validation\n",
      " SUMMARY EPOCH:23\tSample:   65/   65\tLoss:0.5315\tAccuracy:0.66\n",
      "\n",
      "Confusion Matrix\n",
      "[[22. 10.]\n",
      " [12. 21.]]\n",
      "Epoch:24\tSample:    1/  259\tLoss:0.3972\tAccuracy:0.83\n",
      "Training\n",
      " SUMMARY EPOCH:24\tSample:  259/  259\tLoss:0.4130\tAccuracy:0.82\n",
      "\n",
      "Confusion Matrix\n",
      "[[106.  24.]\n",
      " [ 22. 107.]]\n",
      "\n",
      "Validation\n",
      " SUMMARY EPOCH:24\tSample:   65/   65\tLoss:0.5719\tAccuracy:0.69\n",
      "\n",
      "Confusion Matrix\n",
      "[[21. 11.]\n",
      " [ 9. 24.]]\n",
      "Epoch:25\tSample:    1/  259\tLoss:0.3001\tAccuracy:0.88\n",
      "Training\n",
      " SUMMARY EPOCH:25\tSample:  259/  259\tLoss:0.4335\tAccuracy:0.84\n",
      "\n",
      "Confusion Matrix\n",
      "[[111.  19.]\n",
      " [ 22. 107.]]\n",
      "\n",
      "Validation\n",
      " SUMMARY EPOCH:25\tSample:   65/   65\tLoss:0.4821\tAccuracy:0.72\n",
      "\n",
      "Confusion Matrix\n",
      "[[25.  7.]\n",
      " [11. 22.]]\n",
      "Epoch:26\tSample:    1/  259\tLoss:0.4284\tAccuracy:0.86\n",
      "Training\n",
      " SUMMARY EPOCH:26\tSample:  259/  259\tLoss:0.4954\tAccuracy:0.83\n",
      "\n",
      "Confusion Matrix\n",
      "[[111.  19.]\n",
      " [ 24. 105.]]\n",
      "\n",
      "Validation\n",
      " SUMMARY EPOCH:26\tSample:   65/   65\tLoss:0.5308\tAccuracy:0.71\n",
      "\n",
      "Confusion Matrix\n",
      "[[27.  5.]\n",
      " [14. 19.]]\n",
      "Epoch:27\tSample:    1/  259\tLoss:0.2780\tAccuracy:0.88\n",
      "Training\n",
      " SUMMARY EPOCH:27\tSample:  259/  259\tLoss:0.4682\tAccuracy:0.85\n",
      "\n",
      "Confusion Matrix\n",
      "[[112.  18.]\n",
      " [ 22. 107.]]\n",
      "\n",
      "Validation\n",
      " SUMMARY EPOCH:27\tSample:   65/   65\tLoss:0.5024\tAccuracy:0.66\n",
      "\n",
      "Confusion Matrix\n",
      "[[27.  5.]\n",
      " [17. 16.]]\n",
      "Epoch:28\tSample:    1/  259\tLoss:0.2727\tAccuracy:0.89\n",
      "Training\n",
      " SUMMARY EPOCH:28\tSample:  259/  259\tLoss:0.3202\tAccuracy:0.88\n",
      "\n",
      "Confusion Matrix\n",
      "[[119.  11.]\n",
      " [ 20. 109.]]\n",
      "\n",
      "Validation\n",
      " SUMMARY EPOCH:28\tSample:   65/   65\tLoss:0.4850\tAccuracy:0.72\n",
      "\n",
      "Confusion Matrix\n",
      "[[27.  5.]\n",
      " [13. 20.]]\n",
      "Epoch    28: reducing learning rate of group 0 to 3.1250e-06.\n",
      "Epoch:29\tSample:    1/  259\tLoss:0.4316\tAccuracy:0.83\n",
      "Training\n",
      " SUMMARY EPOCH:29\tSample:  259/  259\tLoss:0.4226\tAccuracy:0.84\n",
      "\n",
      "Confusion Matrix\n",
      "[[111.  19.]\n",
      " [ 22. 107.]]\n",
      "\n",
      "Validation\n",
      " SUMMARY EPOCH:29\tSample:   65/   65\tLoss:0.5317\tAccuracy:0.68\n",
      "\n",
      "Confusion Matrix\n",
      "[[24.  8.]\n",
      " [13. 20.]]\n",
      "Epoch:30\tSample:    1/  259\tLoss:0.4324\tAccuracy:0.83\n",
      "Training\n",
      " SUMMARY EPOCH:30\tSample:  259/  259\tLoss:0.3477\tAccuracy:0.85\n",
      "\n",
      "Confusion Matrix\n",
      "[[114.  16.]\n",
      " [ 23. 106.]]\n",
      "\n",
      "Validation\n",
      " SUMMARY EPOCH:30\tSample:   65/   65\tLoss:0.5071\tAccuracy:0.69\n",
      "\n",
      "Confusion Matrix\n",
      "[[26.  6.]\n",
      " [14. 19.]]\n"
     ]
    }
   ],
   "source": [
    "seed = 20\n",
    "seed_everything(seed)\n",
    "\n",
    "num_classes = 2\n",
    "# model = transfer_resNet(num_classes)\n",
    "model = ResNet22(2)\n",
    "device = torch.device('cuda:0' if torch.cuda.is_available() else 'cpu')\n",
    "model.to(device)\n",
    "\n",
    "batch_size = 64\n",
    "train_params = {'batch_size': batch_size,\n",
    "                'shuffle': True,\n",
    "                'num_workers': 10}\n",
    "\n",
    "test_params = {'batch_size': batch_size,\n",
    "               'shuffle': False,\n",
    "               'num_workers': 7}\n",
    "\n",
    "optimizer = torch.optim.Adam(model.parameters(), lr=0.0001)\n",
    "\n",
    "dataset_name = 'coswara'\n",
    "if dataset_name == 'coswara':\n",
    "    train_dataset = CoswaraDataset(mode='train', n_classes=num_classes, segment_length=16000*4)\n",
    "    val_dataset = CoswaraDataset(mode='valid', n_classes=num_classes, segment_length=16000*4)\n",
    "    test_dataset = CoswaraDataset(mode='test', n_classes=num_classes, segment_length=16000*4)\n",
    "    \n",
    "    train_loader = DataLoader(train_dataset, **train_params)\n",
    "    val_loader = DataLoader(val_dataset, **test_params)\n",
    "    test_loader = DataLoader(test_dataset, **test_params)\n",
    "\n",
    "    train_loader = DataLoader(train_dataset, **train_params)\n",
    "    val_loader = DataLoader(val_dataset, **test_params)\n",
    "    test_loader = DataLoader(test_dataset, **test_params)\n",
    "\n",
    "# print(model)\n",
    "num_epochs = 30\n",
    "best_pred_loss = 1000.0\n",
    "lr_sch = ReduceLROnPlateau(optimizer, factor=0.5, patience=2, min_lr=1e-7, verbose=True)\n",
    "# lr_sch = ExponentialLR(optimizer, gamma=0.975)\n",
    "\n",
    "for epoch in range(1, num_epochs + 1):\n",
    "    train(device, batch_size, model, train_loader, optimizer, epoch, None)\n",
    "    val_metrics, confusion_matrix = validation(device, batch_size, num_classes, model, test_loader, epoch, None)\n",
    "\n",
    "#     best_pred_loss = util.save_model(model, optimizer, args, val_metrics, epoch, best_pred_loss, confusion_matrix)\n",
    "    \n",
    "    lr_sch.step(val_metrics.avg('loss'))\n",
    "#     lr_sch.step()"
   ]
  },
  {
   "cell_type": "code",
   "execution_count": null,
   "metadata": {},
   "outputs": [],
   "source": [
    "# cough 1:1\n",
    "train examples =  259 [130 129]\n",
    "test examples =  65 [32 33]\n",
    "# mfcc(40-40), mel(40)\n",
    "Epoch:30\tSample:    1/  259\tLoss:0.3746\tAccuracy:0.84\n",
    "Training\n",
    " SUMMARY EPOCH:30\tSample:  259/  259\tLoss:0.3262\tAccuracy:0.88\n",
    "\n",
    "Confusion Matrix\n",
    "[[110.  20.]\n",
    " [ 19. 110.]]\n",
    "('loss', 'correct', 'total', 'accuracy')\n",
    "Validation\n",
    " SUMMARY EPOCH:30\tSample:   65/   65\tLoss:0.5281\tAccuracy:0.85\n",
    "\n",
    "Confusion Matrix\n",
    "[[21. 11.]\n",
    " [ 8. 25.]]\n",
    "# mfcc(80-40), mel(40)\n",
    "Epoch:30\tSample:    1/  259\tLoss:0.3846\tAccuracy:0.84\n",
    "Training\n",
    " SUMMARY EPOCH:30\tSample:  259/  259\tLoss:0.2643\tAccuracy:0.90\n",
    "\n",
    "Confusion Matrix\n",
    "[[116.  14.]\n",
    " [ 15. 114.]]\n",
    "('loss', 'correct', 'total', 'accuracy')\n",
    "Validation\n",
    " SUMMARY EPOCH:30\tSample:   65/   65\tLoss:0.4694\tAccuracy:0.81\n",
    "\n",
    "Confusion Matrix\n",
    "[[23.  9.]\n",
    " [ 9. 24.]]\n",
    "# mfcc, 0.0001, res22, asym 제거\n",
    "Epoch:30\tSample:    1/  259\tLoss:0.3649\tAccuracy:0.81\n",
    "Training\n",
    " SUMMARY EPOCH:30\tSample:  259/  259\tLoss:0.3580\tAccuracy:0.86\n",
    "\n",
    "Confusion Matrix\n",
    "[[113.  17.]\n",
    " [ 22. 107.]]\n",
    "('loss', 'correct', 'total', 'accuracy')\n",
    "Validation\n",
    " SUMMARY EPOCH:30\tSample:   65/   65\tLoss:0.6397\tAccuracy:0.80\n",
    "\n",
    "Confusion Matrix\n",
    "[[13. 19.]\n",
    " [ 0. 33.]]\n",
    "\n",
    "# mel, 0.0001, res22, asym 제거\n",
    "Epoch:30\tSample:    1/  259\tLoss:0.4553\tAccuracy:0.88\n",
    "Training\n",
    " SUMMARY EPOCH:30\tSample:  259/  259\tLoss:0.3001\tAccuracy:0.90\n",
    "\n",
    "Confusion Matrix\n",
    "[[118.  12.]\n",
    " [ 16. 113.]]\n",
    "('loss', 'correct', 'total', 'accuracy')\n",
    "Validation\n",
    " SUMMARY EPOCH:30\tSample:   65/   65\tLoss:0.4492\tAccuracy:0.80\n",
    "\n",
    "Confusion Matrix\n",
    "[[26.  6.]\n",
    " [13. 20.]]"
   ]
  },
  {
   "cell_type": "code",
   "execution_count": null,
   "metadata": {},
   "outputs": [],
   "source": [
    "# mel, 0.0001, res54\n",
    "Epoch:30\tSample:    1/  320\tLoss:0.1517\tAccuracy:1.00\n",
    "Training\n",
    " SUMMARY EPOCH:30\tSample:  289/  289\tLoss:0.2588\tAccuracy:0.92\n",
    "\n",
    "Confusion Matrix\n",
    "[[143.   9.]\n",
    " [ 16. 136.]]\n",
    "('loss', 'correct', 'total', 'accuracy')\n",
    "Validation\n",
    " SUMMARY EPOCH:30\tSample:   65/   65\tLoss:0.7340\tAccuracy:0.63\n",
    "\n",
    "Confusion Matrix\n",
    "[[27. 11.]\n",
    " [16. 22.]]\n",
    "# MFCC, 0.0001, res54\n",
    "Epoch:30\tSample:    1/  320\tLoss:0.2430\tAccuracy:0.91\n",
    "Training\n",
    " SUMMARY EPOCH:30\tSample:  289/  289\tLoss:0.2133\tAccuracy:0.92\n",
    "\n",
    "Confusion Matrix\n",
    "[[142.  10.]\n",
    " [ 17. 135.]]\n",
    "('loss', 'correct', 'total', 'accuracy')\n",
    "Validation\n",
    " SUMMARY EPOCH:30\tSample:   65/   65\tLoss:1.0175\tAccuracy:0.60\n",
    "\n",
    "Confusion Matrix\n",
    "[[13. 25.]\n",
    " [ 3. 35.]]"
   ]
  },
  {
   "cell_type": "code",
   "execution_count": null,
   "metadata": {},
   "outputs": [],
   "source": [
    "# mel, 0.0001, res22, pretrain\n",
    "Epoch:23\tSample:    1/  320\tLoss:0.1552\tAccuracy:0.97\n",
    "Training\n",
    " SUMMARY EPOCH:23\tSample:  289/  289\tLoss:0.1572\tAccuracy:0.98\n",
    "\n",
    "Confusion Matrix\n",
    "[[148.   4.]\n",
    " [  2. 150.]]\n",
    "('loss', 'correct', 'total', 'accuracy')\n",
    "Validation\n",
    " SUMMARY EPOCH:23\tSample:   65/   65\tLoss:0.5647\tAccuracy:0.68\n",
    "\n",
    "Confusion Matrix\n",
    "[[29.  9.]\n",
    " [13. 25.]]\n",
    "('loss', 'correct', 'total', 'accuracy')\n",
    "# mel, 0.0001, res22, aug\n",
    "SUMMARY EPOCH:30\tSample:  289/  289\tLoss:0.3985\tAccuracy:0.81\n",
    "Confusion Matrix\n",
    "[[126.  26.]\n",
    " [ 31. 121.]]\n",
    "('loss', 'correct', 'total', 'accuracy')\n",
    "Validation\n",
    " SUMMARY EPOCH:30\tSample:   65/   65\tLoss:0.6168\tAccuracy:0.64\n",
    "Confusion Matrix\n",
    "[[24. 14.]\n",
    " [12. 26.]]\n",
    "# mel, 0.0001, res22\n",
    "Training\n",
    " SUMMARY EPOCH:28\tSample:  289/  289\tLoss:0.3153\tAccuracy:0.87\n",
    "\n",
    "Confusion Matrix\n",
    "[[134.  18.]\n",
    " [ 20. 132.]]\n",
    "('loss', 'correct', 'total', 'accuracy')\n",
    "Validation\n",
    " SUMMARY EPOCH:28\tSample:   65/   65\tLoss:0.6228\tAccuracy:0.74\n",
    "\n",
    "Confusion Matrix\n",
    "[[29.  9.]\n",
    " [11. 27.]]\n",
    "# MFCC, 0.0001, res22\n",
    "Epoch:30\tSample:    1/  320\tLoss:0.3386\tAccuracy:0.84\n",
    "Training\n",
    " SUMMARY EPOCH:30\tSample:  289/  289\tLoss:0.3717\tAccuracy:0.83\n",
    "\n",
    "Confusion Matrix\n",
    "[[125.  27.]\n",
    " [ 23. 129.]]\n",
    "('loss', 'correct', 'total', 'accuracy')\n",
    "Validation\n",
    " SUMMARY EPOCH:30\tSample:   65/   65\tLoss:0.5852\tAccuracy:0.75\n",
    "\n",
    "Confusion Matrix\n",
    "[[24. 14.]\n",
    " [ 3. 35.]]"
   ]
  },
  {
   "cell_type": "code",
   "execution_count": null,
   "metadata": {},
   "outputs": [],
   "source": [
    "# mel, 0.0001, shape 다르게\n",
    "Confusion Matrix\n",
    "[[12. 26.]\n",
    " [ 3. 35.]]\n",
    "Epoch    28: reducing learning rate of group 0 to 1.5625e-06.\n",
    "('loss', 'correct', 'total', 'accuracy')\n",
    "Epoch:29\tSample:    1/  320\tLoss:0.2735\tAccuracy:0.94\n",
    "Training\n",
    " SUMMARY EPOCH:29\tSample:  289/  289\tLoss:0.3475\tAccuracy:0.85\n",
    "\n",
    "Confusion Matrix\n",
    "[[133.  19.]\n",
    " [ 27. 125.]]\n",
    "('loss', 'correct', 'total', 'accuracy')\n",
    "Validation\n",
    " SUMMARY EPOCH:29\tSample:   65/   65\tLoss:1.0067\tAccuracy:0.60\n",
    "\n",
    "Confusion Matrix\n",
    "[[14. 24.]\n",
    " [ 4. 34.]]"
   ]
  },
  {
   "cell_type": "code",
   "execution_count": null,
   "metadata": {},
   "outputs": [],
   "source": [
    "# MFCC, 0.0001, shape 다르게\n",
    "Training\n",
    " SUMMARY EPOCH:25\tSample:  289/  289\tLoss:0.2372\tAccuracy:0.92\n",
    "\n",
    "Confusion Matrix\n",
    "[[136.  16.]\n",
    " [ 11. 141.]]\n",
    "('loss', 'correct', 'total', 'accuracy')\n",
    "Validation\n",
    " SUMMARY EPOCH:25\tSample:   65/   65\tLoss:0.6516\tAccuracy:0.75\n",
    "\n",
    "Confusion Matrix\n",
    "[[32.  6.]\n",
    " [15. 23.]]"
   ]
  },
  {
   "cell_type": "code",
   "execution_count": null,
   "metadata": {},
   "outputs": [],
   "source": [
    "test_metrics, confusion_matrix = validation(device, batch_size, num_classes, model, test_loader, epoch, None)"
   ]
  },
  {
   "cell_type": "code",
   "execution_count": null,
   "metadata": {},
   "outputs": [],
   "source": []
  }
 ],
 "metadata": {
  "kernelspec": {
   "display_name": "Python 3",
   "language": "python",
   "name": "python3"
  },
  "language_info": {
   "codemirror_mode": {
    "name": "ipython",
    "version": 3
   },
   "file_extension": ".py",
   "mimetype": "text/x-python",
   "name": "python",
   "nbconvert_exporter": "python",
   "pygments_lexer": "ipython3",
   "version": "3.6.9"
  }
 },
 "nbformat": 4,
 "nbformat_minor": 4
}
